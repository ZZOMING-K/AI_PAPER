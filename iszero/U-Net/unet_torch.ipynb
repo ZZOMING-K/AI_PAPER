{
 "cells": [
  {
   "cell_type": "code",
   "execution_count": 1,
   "metadata": {},
   "outputs": [],
   "source": [
    "import pandas as pd\n",
    "import numpy as np\n",
    "import torch.nn as nn\n",
    "import torch.nn.functional as F\n",
    "import cv2"
   ]
  },
  {
   "cell_type": "code",
   "execution_count": null,
   "metadata": {},
   "outputs": [],
   "source": []
  },
  {
   "cell_type": "code",
   "execution_count": null,
   "metadata": {},
   "outputs": [],
   "source": [
    "class UNET(nn.Module) :\n",
    "    def __init__(self) :\n",
    "        super(Unet, self).__init__()\n",
    "        self.encoder_1 = self.conv(1, 64)\n",
    "        self.encoder_2 = self.conv(64, 128)\n",
    "        self.encoder_3 = self.conv(128, 256)\n",
    "        self.encoder_4 = self.conv(256, 512)\n",
    "        \n",
    "        self.connect = self.conv(512, 1024)\n",
    "        \n",
    "        self.decoder_1 = self.conv(512 + 1024, 512)\n",
    "        self.decoder_2 = self.conv(512 + 256, 256)\n",
    "        self.decoder_3 = self.conv(256 + 128, 128)\n",
    "        self.decoder_4 = self.conv(128 + 64, 64)\n",
    "        \n",
    "        self.fc = nn.Conv2d(64, 1, kernel_size=1)\n",
    "    \n",
    "    def conv(self, in_c, out_c) :\n",
    "        lay = nn.Sequential(\n",
    "            nn.Conv2d(in_c, out_c, kernel_size = 3, padding = 1), \n",
    "            nn.ReLU(inplace = True), \n",
    "            nn.Conv2d(out_c, out_c, kernel_size = 3, padding = 1), \n",
    "            nn.ReLU(inplace = True)\n",
    "        )\n",
    "        return lay\n",
    "\n",
    "    def forward(self, x) :\n",
    "        encoder_1 = self.encoder_1(x)\n",
    "        encoder_2 = self.encoder_2(F.max_pool2d(encoder_1, kernel_size = 2))\n",
    "        encoder_3 = self.encoder_3(F.max_pool2d(encoder_2, kernel_size = 2))\n",
    "        encoder_4 = self.encoder_4(F.max_pool2d(encoder_3, kernel_size = 2))\n",
    "        \n",
    "        connect = self.connect(F.max_pool2d(encoder_4, kernel_size = 2))\n",
    "        \n",
    "        decoder_1 = self.decoder_1(torch.cat([F.interpolate(connect, scale_factor = 2, mode = 'bilinear', \n",
    "                                                            align_corners=True), encoder_4], dim = 1))\n",
    "        decoder_2 = self.decoder_2(torch.cat([F.interpolate(decoder_1, scale_factor = 2, mode = 'bilinear', \n",
    "                                                            align_corners=True), encoder_3], dim = 1)) \n",
    "        decoder_3 = self.decoder_3(torch.cat([F.interpolate(decoder_2, scale_factor = 2, mode = 'bilinear', \n",
    "                                                            align_corners=True), encoder_2], dim = 1))\n",
    "        decoder_4 = self.decoder_4(torch.cat([F.interpolate(decoder_3, scale_factor = 2, mode = 'bilinear', \n",
    "                                                            align_corners=True), encoder_1], dim = 1))        \n",
    "        \n",
    "        fc = self.fc(decoder_4)\n",
    "        \n",
    "        return torch.sigmoid(fc)\n",
    "\n",
    "def boundary_mask(mask, dilation_iterations) :\n",
    "    kernel = np.ones((3, 3), np.unit8)\n",
    "    dilate = cv2.dilate(mask.numpy(), kernel, interations = dilation_iterations)\n",
    "    boundary = dilated - mask.numpy()\n",
    "    \n",
    "    return torch.tensor(boundary, dtype = torch.float32)\n",
    "\n",
    "def boundary_loss(y_true, y_pred) :\n",
    "    mask = boundary_mask(y_true, 2)\n",
    "    bce = nn.BCELoss()\n",
    "    loss = bce(y_pred, y_true)\n",
    "    boundary_loss_value = loss * mask\n",
    "    \n",
    "    return torch.mean(boundary_loss_value)"
   ]
  }
 ],
 "metadata": {
  "kernelspec": {
   "display_name": "base",
   "language": "python",
   "name": "python3"
  },
  "language_info": {
   "codemirror_mode": {
    "name": "ipython",
    "version": 3
   },
   "file_extension": ".py",
   "mimetype": "text/x-python",
   "name": "python",
   "nbconvert_exporter": "python",
   "pygments_lexer": "ipython3",
   "version": "3.9.13"
  }
 },
 "nbformat": 4,
 "nbformat_minor": 2
}
